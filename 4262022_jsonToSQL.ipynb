{
 "cells": [
  {
   "cell_type": "code",
   "execution_count": 1,
   "id": "04982f89",
   "metadata": {},
   "outputs": [],
   "source": [
    "import json\n",
    "import sqlite3"
   ]
  },
  {
   "cell_type": "markdown",
   "id": "6eca8920",
   "metadata": {},
   "source": [
    "Load scraped data\n",
    "Most recent: 02/21/2022"
   ]
  },
  {
   "cell_type": "code",
   "execution_count": 2,
   "id": "f4bbd98b",
   "metadata": {},
   "outputs": [],
   "source": [
    "# Path of scraped data\n",
    "with open('em_scraped_data_02212022.json') as f:\n",
    "    data = json.load(f)"
   ]
  },
  {
   "cell_type": "markdown",
   "id": "c9952fcc",
   "metadata": {},
   "source": [
    "Connect to sqlite3 database"
   ]
  },
  {
   "cell_type": "code",
   "execution_count": 4,
   "id": "f8988fbc",
   "metadata": {},
   "outputs": [],
   "source": [
    "con = sqlite3.connect('em_scraped_data_03122023_database.db')\n",
    "cursor = con.cursor()"
   ]
  },
  {
   "cell_type": "markdown",
   "id": "04467ce9",
   "metadata": {},
   "source": [
    "Create tables"
   ]
  },
  {
   "cell_type": "code",
   "execution_count": 5,
   "id": "cf02aa51",
   "metadata": {},
   "outputs": [
    {
     "data": {
      "text/plain": [
       "<sqlite3.Cursor at 0x1bedd55d9d0>"
      ]
     },
     "execution_count": 5,
     "metadata": {},
     "output_type": "execute_result"
    }
   ],
   "source": [
    "sql_createProvider = '''CREATE TABLE Provider (\n",
    "    EMID            INTEGER       PRIMARY KEY\n",
    "                                  NOT NULL,\n",
    "    Name            VARCHAR (64)  NOT NULL,\n",
    "    State           VARCHAR (64)  NOT NULL,\n",
    "    City            VARCHAR (64)  NOT NULL,\n",
    "    PhoneNumber     VARCHAR (64),\n",
    "    Link            VARCHAR (128),\n",
    "    Age             VARCHAR (64),\n",
    "    LastSeenOnline  VARCHAR (64),\n",
    "    PersonalWebsite VARCHAR (128),\n",
    "    Services        VARCHAR (128) \n",
    ");'''\n",
    "cursor.execute(sql_createProvider)"
   ]
  },
  {
   "cell_type": "code",
   "execution_count": 6,
   "id": "092a7dd7",
   "metadata": {},
   "outputs": [
    {
     "data": {
      "text/plain": [
       "<sqlite3.Cursor at 0x1bedd55d9d0>"
      ]
     },
     "execution_count": 6,
     "metadata": {},
     "output_type": "execute_result"
    }
   ],
   "source": [
    "sql_createReviews = ''' CREATE TABLE Reviews (\n",
    "    ReviewID     INTEGER       PRIMARY KEY\n",
    "                               NOT NULL,\n",
    "    ReviewerID   INTEGER       NOT NULL\n",
    "                               REFERENCES Reviewer (ID),\n",
    "    Username     VARCHAR (64)  NOT NULL,\n",
    "    ProviderEMID INTEGER       REFERENCES Provider (EMID) \n",
    "                               NOT NULL,\n",
    "    IncallRates  VARCHAR (64),\n",
    "    OutcallRates VARCHAR (64),\n",
    "    DateAdded    VARCHAR (64),\n",
    "    NameUsed     VARCHAR (64),\n",
    "    State        VARCHAR (64),\n",
    "    City         VARCHAR (64),\n",
    "    PhoneNumber  VARCHAR (64),\n",
    "    Tattoos      VARCHAR (64),\n",
    "    PhotosReal   VARCHAR (64),\n",
    "    Link         VARCHAR (128) \n",
    ");'''\n",
    "cursor.execute(sql_createReviews)"
   ]
  },
  {
   "cell_type": "code",
   "execution_count": 7,
   "id": "5d4e3632",
   "metadata": {},
   "outputs": [
    {
     "data": {
      "text/plain": [
       "<sqlite3.Cursor at 0x1bedd55d9d0>"
      ]
     },
     "execution_count": 7,
     "metadata": {},
     "output_type": "execute_result"
    }
   ],
   "source": [
    "sql_createReviewer = ''' CREATE TABLE Reviewer (\n",
    "    ID       INTEGER      NOT NULL\n",
    "                          PRIMARY KEY,\n",
    "    Username VARCHAR (64) NOT NULL\n",
    ");'''\n",
    "cursor.execute(sql_createReviewer)"
   ]
  },
  {
   "cell_type": "code",
   "execution_count": 8,
   "id": "11744619",
   "metadata": {},
   "outputs": [
    {
     "data": {
      "text/plain": [
       "<sqlite3.Cursor at 0x1bedd55d9d0>"
      ]
     },
     "execution_count": 8,
     "metadata": {},
     "output_type": "execute_result"
    }
   ],
   "source": [
    "sql_createImages = '''CREATE TABLE Images (\n",
    "    ProviderEMID  VARCHAR (64)  NOT NULL\n",
    "                                REFERENCES Provider (EMID),\n",
    "    ImageURL      VARCHAR (128) NOT NULL\n",
    "                                PRIMARY KEY,\n",
    "    BaseImageName VARCHAR (128),\n",
    "    [phash8-1]    VARCHAR (64),\n",
    "    [phash16-1]   VARCHAR (128),\n",
    "    sha256        VARCHAR (128) \n",
    ");'''\n",
    "cursor.execute(sql_createImages)"
   ]
  },
  {
   "cell_type": "markdown",
   "id": "fcc57e03",
   "metadata": {},
   "source": [
    "Add new providers, reviewers, reviews, and images to database"
   ]
  },
  {
   "cell_type": "code",
   "execution_count": 9,
   "id": "0f63835f",
   "metadata": {},
   "outputs": [],
   "source": [
    "# Add provider to database\n",
    "for provider in data.items():\n",
    "    # Phone Numbers are sometimes not present in data, so this makes an empty entry to avoid errors\n",
    "    if \"Phone Number\" not in provider[1]:\n",
    "        provider[1][\"Phone Number\"] =\"\"\n",
    "    # last_seen_online sometimes has no entry, so this creates an empty one\n",
    "    if \"last_seen_online\" not in provider[1]:\n",
    "        provider[1][\"last_seen_online\"] =\"\"\n",
    "    # personal_website sometimes has no entry\n",
    "    if provider[1][\"personal_website\"] is None:\n",
    "        provider[1][\"personal_website\"] =\"\"\n",
    "    # Try to insert the provider in the table\n",
    "    try:\n",
    "        sqlite_insert_provider_query = (\"\\nINSERT INTO Provider (EMID, Name, State, City, PhoneNumber, Link, Age, LastSeenOnline, PersonalWebsite, Services) VALUES ('\" +provider[1][\"emid\"]+ \"','\"+provider[1][\"provider_name\"]+\"','\"+provider[1][\"State\"]+\"','\"+provider[1][\"City\"]+\"','\"+provider[1][\"Phone Number\"]+\"','\"+provider[0]+\"','\"+provider[1][\"Age\"]+\"','\"+provider[1][\"last_seen_online\"]+\"','\"+provider[1][\"personal_website\"]+\"','\"+provider[1][\"Services\"]+\"');\")\n",
    "        count = cursor.execute(sqlite_insert_provider_query)\n",
    "    # Pass if there is an error\n",
    "    except:\n",
    "        #print(\"Provider did not work\\n\")\n",
    "        pass\n",
    "    # Insert each review for the provider\n",
    "    for review in provider[1][\"review_data\"].items():\n",
    "        # The next 4 lines grabs the unique review ID for each review\n",
    "        # For data scraped 2/21/2022, the review ID is not in its own variable\n",
    "        link = review[0]\n",
    "        link_length = len(link)\n",
    "        review_id = link[link_length - 6 : ]\n",
    "        if (review_id[0] == '-'): review_id = review_id[1:]\n",
    "        \n",
    "        # If no tattoo data, create empty entry\n",
    "        if \"Tattoos\" not in review[1]:\n",
    "            review[1][\"Tattoos\"] =\"\"\n",
    "        # If no Photos Real data, create empty entry\n",
    "        if \"Photos Real\" not in review[1]:\n",
    "            review[1][\"Photos Real\"] =\"\"\n",
    "        # If no phone number, create empty entry\n",
    "        if \"Phone number\" not in review[1]:\n",
    "            review[1][\"Phone number\"] =\"\"\n",
    "        # If no incall_rates, create empty entry\n",
    "        if review[1][\"incall_rates\"] == \"not listed\":\n",
    "            incallRates = \"not listed\"\n",
    "        # Create string if multiple incall_rates\n",
    "        elif review[1][\"incall_rates\"] != \"not listed\":\n",
    "            incallRates = \"\"\n",
    "            for i in review[1][\"incall_rates\"]:\n",
    "                incallRates += ''.join(i)\n",
    "                incallRates += \" \"\n",
    "        # If no outcall_rates, create empty entry\n",
    "        if review[1][\"outcall_rates\"] == \"not listed\":\n",
    "            outcallRates = \"not listed\"\n",
    "        # Create string if multiple outcall rates\n",
    "        elif review[1][\"outcall_rates\"] != \"not listed\":\n",
    "            outcallRates = \"\"\n",
    "            for i in review[1][\"outcall_rates\"]:\n",
    "                outcallRates += ''.join(i)\n",
    "                outcallRates += \" \"        \n",
    "        # Insert review data\n",
    "        try:\n",
    "            sqlite_insert_reviews_query = (\"\\nINSERT INTO Reviews (ReviewID, ReviewerID, Username, ProviderEMID,IncallRates,OutcallRates, DateAdded, NameUsed, State, City, PhoneNumber, Tattoos, PhotosReal, Link) VALUES ('\"+review_id + \"','\" +review[1][\"reviewer_id\"] +\"','\"+review[1][\"review_username\"]+\"','\"+provider[1][\"emid\"]+\"','\"+incallRates+\"','\"+outcallRates+\"','\"+review[1][\"date_added\"]+\"','\"+review[1][\"Named Used\"]+\"','\"+review[1][\"State\"]+\"','\"+review[1][\"City\"]+\"','\"+review[1][\"Phone number\"]+\"','\"+review[1][\"Tattoos\"]+\"','\"+review[1][\"Photos Real\"]+\"','\"+review[0]+\"');\")\n",
    "            count = cursor.execute(sqlite_insert_reviews_query)\n",
    "        # Pass if fail\n",
    "        except:\n",
    "            pass\n",
    "        \n",
    "        # Insert reviewer data\n",
    "        try:\n",
    "            sqlite_insert_reviewer_query = (\"\\nINSERT INTO Reviewer (ID, Username) VALUES ('\" +review[1][\"reviewer_id\"] +\"','\"+review[1][\"review_username\"]+\"');\")\n",
    "            count = cursor.execute(sqlite_insert_reviewer_query)\n",
    "        # Pass if fail\n",
    "        except:\n",
    "            pass\n",
    "        \n",
    "    # Insert image data\n",
    "    for image in provider[1][\"img_data\"].items():\n",
    "        try:\n",
    "            sql_insert_image_query = (\"\\nINSERT INTO Images (ProviderEMID, ImageURL, BaseImageName, [phash8-1], [phash16-1], sha256) VALUES ('\"+provider[1][\"emid\"]+\"','\"+image[1][\"image_url\"]+\"','\"+image[1][\"base_image_name\"]+\"','\"+image[1][\"phash8-1\"]+\"','\"+image[1][\"phash16-1\"]+\"','\"+image[1][\"sha256\"]+\"');\")\n",
    "            count = cursor.execute(sql_insert_image_query)\n",
    "        # Pass if fail\n",
    "        except:\n",
    "            pass\n",
    "con.commit()\n",
    "con.close()"
   ]
  },
  {
   "cell_type": "code",
   "execution_count": null,
   "id": "f6dbca06",
   "metadata": {},
   "outputs": [],
   "source": []
  }
 ],
 "metadata": {
  "kernelspec": {
   "display_name": "Python 3",
   "language": "python",
   "name": "python3"
  },
  "language_info": {
   "codemirror_mode": {
    "name": "ipython",
    "version": 3
   },
   "file_extension": ".py",
   "mimetype": "text/x-python",
   "name": "python",
   "nbconvert_exporter": "python",
   "pygments_lexer": "ipython3",
   "version": "3.8.8"
  }
 },
 "nbformat": 4,
 "nbformat_minor": 5
}
