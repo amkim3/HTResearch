{
 "cells": [
  {
   "cell_type": "markdown",
   "id": "d4f36172",
   "metadata": {},
   "source": [
    "# Using DeepFace find() to find all matching faces in a folder\n",
    "By Audrey Kim\n",
    "Last updated: 10/29/2021"
   ]
  },
  {
   "cell_type": "markdown",
   "id": "3b26c400",
   "metadata": {},
   "source": [
    "note: when running find() for the first time, code will create a file called \"representations_vgg_face.pkl.\" This is necessary for the code to work"
   ]
  },
  {
   "cell_type": "code",
   "execution_count": null,
   "id": "8a3d3392",
   "metadata": {},
   "outputs": [],
   "source": [
    "from deepface import DeepFace\n",
    "import os\n",
    "import json\n",
    "# import hashlib\n",
    "from deepface.commons import functions\n",
    "from retinaface import RetinaFace\n",
    "import matplotlib.pyplot as plt\n",
    "import ipyplot\n",
    "import cv2\n",
    "from PIL import Image\n",
    "import warnings"
   ]
  },
  {
   "cell_type": "markdown",
   "id": "b603ac1f",
   "metadata": {},
   "source": [
    "## DeepFace find() function only accepts .jpg and .png. Convert all filed to .jpg if they aren't already"
   ]
  },
  {
   "cell_type": "code",
   "execution_count": null,
   "id": "3ba29ae1",
   "metadata": {},
   "outputs": [],
   "source": [
    "folder=\"cleaner_pics_jpg/\" # Whatever folder\n",
    "old_extension=\".jpeg\"\n",
    "desired_ext=\".jpg\"\n",
    "images = os.listdir(folder)\n",
    "for _file in images:\n",
    "    full_file_path= os.path.join(folder,_file)\n",
    "    if not os.path.isfile(full_file_path): continue\n",
    "    new_name= full_file_path.replace(old_extension,desired_ext)\n",
    "    os.rename(full_file_path,new_name)"
   ]
  },
  {
   "cell_type": "markdown",
   "id": "d633724a",
   "metadata": {},
   "source": [
    "## DeepFace find()"
   ]
  },
  {
   "cell_type": "code",
   "execution_count": null,
   "id": "461e6f12",
   "metadata": {},
   "outputs": [],
   "source": [
    "detector = \"retinaface\" # DeepFace has multiple detectors to choose from; we are using retina face, which is more accurate\n",
    "dirname = \"NewTest/\" # Folder containing images you want to search through\n",
    "matchedFaces = [] # Array to store matched faces\n",
    "images = os.listdir(dirname) # Array of all images in the dirname\n",
    "\n",
    "for _file in images[:100]:\n",
    "    try:\n",
    "        img = Image.open(dirname + _file) # Open the image\n",
    "        df = DeepFace.find(img_path = dirname+_file, db_path = dirname, detector_backend = detector) # Find function\n",
    "        matchedFaces.append(img) # Add target image to the image array\n",
    "        for i in range(len(df)): # For all images that match the target image\n",
    "            fileName = df.iloc[i].identity[len(dirname)+1:] # fileName will not include dirname\n",
    "            if fileName == _file: # If file is the same as target image, skip\n",
    "                continue\n",
    "            image = Image.open(df.iloc[i].identity) # Open the image that matched with target image\n",
    "            matchedFaces.append(image) # Add image to array\n",
    "        ipyplot.plot_images(matchedFaces, max_images=50) # Plot all images, target image first\n",
    "    except Exception as e:\n",
    "        print(e)\n",
    "        print(dirname + _file)\n",
    "        ipyplot.plot_images([img])\n",
    "        \n",
    "    matchedFaces = [] # Reset the array\n"
   ]
  },
  {
   "cell_type": "code",
   "execution_count": null,
   "id": "edaea111",
   "metadata": {},
   "outputs": [],
   "source": [
    "# file = open(\"RetinaFaceComparison.json\", 'w')\n",
    "\n",
    "detector = \"retinaface\" # Whatever detector you want\n",
    "dirname = \"NewTest/\" # Folder containing images you want to search through\n",
    "# data = {}\n",
    "matchedFaces = [] # Array to store matched faces\n",
    "images = os.listdir(dirname) # Array of all images in the dirname\n",
    "\n",
    "for _file in images[:100]:\n",
    "    try:\n",
    "        img = Image.open(dirname + _file) # Open the image\n",
    "        # ipyplot.plot_images([img])\n",
    "#         df = DeepFace.find(img_path = dirname+_file, db_path = dirname, detector_backend = detector)\n",
    "        df = DeepFace.find(img_path = dirname+_file, db_path = dirname, detector_backend = detector, enforce_detection = False)\n",
    "        matchedFaces.append(img) # Add target image to the image array\n",
    "        for i in range(len(df)): # For all images that match the target image\n",
    "            fileName = df.iloc[i].identity[len(dirname)+1:] # fileName will not include dirname\n",
    "            if fileName == _file: # If file is the same as target image, skip\n",
    "                continue\n",
    "            image = Image.open(df.iloc[i].identity) # Open the image that matched with target image\n",
    "            matchedFaces.append(image) # Add image to array\n",
    "        ipyplot.plot_images(matchedFaces, max_images=50) # Plot all images, target image first\n",
    "    except Exception as e:\n",
    "        print(e)\n",
    "        print(dirname + _file)\n",
    "        ipyplot.plot_images([img])\n",
    "        \n",
    "    matchedFaces = [] # Reset the array\n"
   ]
  },
  {
   "cell_type": "code",
   "execution_count": null,
   "id": "b49c510d",
   "metadata": {},
   "outputs": [],
   "source": []
  }
 ],
 "metadata": {
  "kernelspec": {
   "display_name": "Python 3",
   "language": "python",
   "name": "python3"
  },
  "language_info": {
   "codemirror_mode": {
    "name": "ipython",
    "version": 3
   },
   "file_extension": ".py",
   "mimetype": "text/x-python",
   "name": "python",
   "nbconvert_exporter": "python",
   "pygments_lexer": "ipython3",
   "version": "3.8.8"
  }
 },
 "nbformat": 4,
 "nbformat_minor": 5
}
