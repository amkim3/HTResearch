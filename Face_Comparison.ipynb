{
 "cells": [
  {
   "cell_type": "code",
   "execution_count": null,
   "id": "1de30c0d",
   "metadata": {},
   "outputs": [],
   "source": [
    "from deepface import DeepFace\n",
    "import os\n",
    "import json\n",
    "import hashlib\n",
    "from deepface.commons import functions\n",
    "import pprint\n",
    "from retinaface import RetinaFace\n",
    "import matplotlib.pyplot as plt\n",
    "import ipyplot\n",
    "import cv2\n",
    "from PIL import Image\n",
    "import warnings"
   ]
  },
  {
   "cell_type": "code",
   "execution_count": null,
   "id": "809f5060",
   "metadata": {},
   "outputs": [],
   "source": [
    "file = open(\"RetinaFaceComparison.json\", 'w')\n",
    "detector = \"retinaface\"\n",
    "dirname = \"test/\"\n",
    "data = {}\n",
    "matchedFaces = []\n",
    "images = os.listdir(dirname)\n",
    "\n",
    "for _file in images[:5]:\n",
    "    try:\n",
    "#         img = cv2.imread(dirname + file)\n",
    "#         print(_file)\n",
    "        img = Image.open(dirname + _file)\n",
    "        df = DeepFace.find(img_path = dirname+_file, db_path = dirname, detector_backend = detector)\n",
    "        matchedFaces.append(img)\n",
    "        for i in range(len(df)):\n",
    "            fileName = df.iloc[i].identity[len(dirname)+1:]\n",
    "            if fileName == _file:\n",
    "                continue\n",
    "            image = Image.open(df.iloc[i].identity)\n",
    "            matchedFaces.append(image)\n",
    "            \n",
    "#             images.remove(fileName)\n",
    "        ipyplot.plot_images(matchedFaces, max_images=50)\n",
    "    except Exception as e:\n",
    "        print(e)\n",
    "    matchedFaces = []\n",
    "# print(df.head())\n",
    "# print(matchedFaces)\n",
    "# df.iloc[0]\n"
   ]
  },
  {
   "cell_type": "code",
   "execution_count": null,
   "id": "ae71f57c",
   "metadata": {},
   "outputs": [],
   "source": []
  },
  {
   "cell_type": "code",
   "execution_count": null,
   "id": "2a2c90ce",
   "metadata": {},
   "outputs": [],
   "source": [
    "#         for images in df:\n",
    "#             data[dirname + files] = {\n",
    "#                 'Matches': \n",
    "#             }\n",
    "#       img = Image.open(dirname + files)\n",
    "#     target_name = files + \".jpg\"\n",
    "#     rgb_img = img.convert('RGB')\n",
    "#     rgb_img.save(r'new_pics\\' + target_name)"
   ]
  },
  {
   "cell_type": "code",
   "execution_count": null,
   "id": "bcde8cdf",
   "metadata": {},
   "outputs": [],
   "source": [
    "json.dump(data, file, sort_keys = False, indent = 4)\n",
    "file.close()"
   ]
  },
  {
   "cell_type": "code",
   "execution_count": null,
   "id": "678d8f3e",
   "metadata": {},
   "outputs": [],
   "source": []
  }
 ],
 "metadata": {
  "kernelspec": {
   "display_name": "Python 3",
   "language": "python",
   "name": "python3"
  },
  "language_info": {
   "codemirror_mode": {
    "name": "ipython",
    "version": 3
   },
   "file_extension": ".py",
   "mimetype": "text/x-python",
   "name": "python",
   "nbconvert_exporter": "python",
   "pygments_lexer": "ipython3",
   "version": "3.8.8"
  }
 },
 "nbformat": 4,
 "nbformat_minor": 5
}
