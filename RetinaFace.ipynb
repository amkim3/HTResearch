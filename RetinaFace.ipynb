{
 "cells": [
  {
   "cell_type": "code",
   "execution_count": 1,
   "id": "f338f0ba",
   "metadata": {},
   "outputs": [],
   "source": [
    "import os\n",
    "import matplotlib.pyplot as plt\n",
    "import json\n",
    "import hashlib\n",
    "from retinaface import RetinaFace"
   ]
  },
  {
   "cell_type": "code",
   "execution_count": 10,
   "id": "bf065190",
   "metadata": {},
   "outputs": [],
   "source": [
    "facial_images = []\n",
    "for root, directories, files in os.walk(\"test/\"):\n",
    "    for file in files:\n",
    "        if ('.jpg' in file):\n",
    "            exact_path = root + file\n",
    "            facial_images.append(exact_path)"
   ]
  },
  {
   "cell_type": "code",
   "execution_count": 30,
   "id": "351b89ab",
   "metadata": {},
   "outputs": [
    {
     "name": "stdout",
     "output_type": "stream",
     "text": [
      "(array([], shape=(0, 5), dtype=float64), array([], shape=(0, 5, 2), dtype=float64))\n",
      "['test/e17614d8fdc0ea2cf6cee97af0dd0a31.jpg']\n",
      "{'face_1': {'score': 0.9993255138397217, 'facial_area': [291, 104, 474, 342], 'landmarks': {'right_eye': [336.422, 193.50201], 'left_eye': [422.4657, 192.90196], 'nose': [378.18887, 247.56676], 'mouth_right': [347.224, 283.24295], 'mouth_left': [415.05472, 282.7129]}}}\n",
      "['test/img1.jpg']\n",
      "{'face_1': {'score': 0.999519944190979, 'facial_area': [390, 384, 1046, 1218], 'landmarks': {'right_eye': [512.7351, 706.882], 'left_eye': [818.5873, 697.53613], 'nose': [639.575, 909.974], 'mouth_right': [556.46484, 1008.952], 'mouth_left': [820.0411, 1000.03534]}}}\n",
      "['test/img2.jpg']\n",
      "{'face_1': {'score': 0.9990637898445129, 'facial_area': [60, 42, 125, 123], 'landmarks': {'right_eye': [73.4995, 73.85942], 'left_eye': [103.183685, 72.93856], 'nose': [86.09088, 93.19665], 'mouth_right': [80.28096, 106.596886], 'mouth_left': [100.935036, 105.58295]}}}\n",
      "['test/img3.jpg']\n",
      "{'face_1': {'score': 0.9993126392364502, 'facial_area': [101, 55, 263, 267], 'landmarks': {'right_eye': [120.607124, 145.34639], 'left_eye': [179.83403, 134.33755], 'nose': [131.1432, 179.05602], 'mouth_right': [138.88586, 222.52068], 'mouth_left': [183.65112, 212.8674]}}}\n",
      "['test/img4.jpg']\n",
      "{'face_1': {'score': 0.9995300769805908, 'facial_area': [429, 186, 977, 890], 'landmarks': {'right_eye': [504.86285, 454.9804], 'left_eye': [733.5009, 442.7122], 'nose': [554.9622, 583.43744], 'mouth_right': [536.29376, 721.422], 'mouth_left': [711.5036, 711.41785]}}}\n",
      "['test/img5.jpg']\n"
     ]
    }
   ],
   "source": [
    "representations = []\n",
    "for face in facial_images:\n",
    "    #print(face)\n",
    "    img = RetinaFace.detect_faces(face)\n",
    "    print(img)\n",
    "    representation = []\n",
    "    representation.append(face)\n",
    "    #representation.append(embedding)\n",
    "    print(representation)\n",
    "    representations.append(representation)"
   ]
  },
  {
   "cell_type": "code",
   "execution_count": 27,
   "id": "dcbb8c52",
   "metadata": {},
   "outputs": [
    {
     "name": "stdout",
     "output_type": "stream",
     "text": [
      "[[(array([], shape=(0, 5), dtype=float64), array([], shape=(0, 5, 2), dtype=float64))], [{'face_1': {'score': 0.9993255138397217, 'facial_area': [291, 104, 474, 342], 'landmarks': {'right_eye': [336.422, 193.50201], 'left_eye': [422.4657, 192.90196], 'nose': [378.18887, 247.56676], 'mouth_right': [347.224, 283.24295], 'mouth_left': [415.05472, 282.7129]}}}], [{'face_1': {'score': 0.999519944190979, 'facial_area': [390, 384, 1046, 1218], 'landmarks': {'right_eye': [512.7351, 706.882], 'left_eye': [818.5873, 697.53613], 'nose': [639.575, 909.974], 'mouth_right': [556.46484, 1008.952], 'mouth_left': [820.0411, 1000.03534]}}}], [{'face_1': {'score': 0.9990637898445129, 'facial_area': [60, 42, 125, 123], 'landmarks': {'right_eye': [73.4995, 73.85942], 'left_eye': [103.183685, 72.93856], 'nose': [86.09088, 93.19665], 'mouth_right': [80.28096, 106.596886], 'mouth_left': [100.935036, 105.58295]}}}], [{'face_1': {'score': 0.9993126392364502, 'facial_area': [101, 55, 263, 267], 'landmarks': {'right_eye': [120.607124, 145.34639], 'left_eye': [179.83403, 134.33755], 'nose': [131.1432, 179.05602], 'mouth_right': [138.88586, 222.52068], 'mouth_left': [183.65112, 212.8674]}}}], [{'face_1': {'score': 0.9995300769805908, 'facial_area': [429, 186, 977, 890], 'landmarks': {'right_eye': [504.86285, 454.9804], 'left_eye': [733.5009, 442.7122], 'nose': [554.9622, 583.43744], 'mouth_right': [536.29376, 721.422], 'mouth_left': [711.5036, 711.41785]}}}]]\n"
     ]
    }
   ],
   "source": [
    "print(representations)"
   ]
  },
  {
   "cell_type": "code",
   "execution_count": null,
   "id": "2724568d",
   "metadata": {},
   "outputs": [],
   "source": []
  }
 ],
 "metadata": {
  "kernelspec": {
   "display_name": "Python 3",
   "language": "python",
   "name": "python3"
  },
  "language_info": {
   "codemirror_mode": {
    "name": "ipython",
    "version": 3
   },
   "file_extension": ".py",
   "mimetype": "text/x-python",
   "name": "python",
   "nbconvert_exporter": "python",
   "pygments_lexer": "ipython3",
   "version": "3.6.13"
  }
 },
 "nbformat": 4,
 "nbformat_minor": 5
}
