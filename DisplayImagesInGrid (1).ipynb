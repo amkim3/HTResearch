{
 "cells": [
  {
   "cell_type": "code",
   "execution_count": null,
   "id": "e2a77735-6493-47d7-a45b-317da4cc121a",
   "metadata": {},
   "outputs": [],
   "source": [
    "import ipyplot\n",
    "from PIL import Image\n",
    "import pandas as pd\n",
    "import pathlib\n",
    "import glob"
   ]
  },
  {
   "cell_type": "code",
   "execution_count": null,
   "id": "19607c41-f426-4391-a516-4c399fd1c35d",
   "metadata": {},
   "outputs": [],
   "source": [
    "subfolder = 'test/'\n",
    "images = pathlib.Path(subfolder).glob('*.jpg')\n",
    "images_pil = [Image.open(image) for image in images]"
   ]
  },
  {
   "cell_type": "code",
   "execution_count": null,
   "id": "21105350-d1ce-41c5-b243-0c6c3734f5f0",
   "metadata": {},
   "outputs": [],
   "source": [
    "# Display using the list (deprecation warning)\n",
    "ipyplot.plot_images(images_pil, max_images=219)"
   ]
  },
  {
   "cell_type": "code",
   "execution_count": null,
   "id": "c4089920-1a0e-46d1-afef-a24877a35571",
   "metadata": {},
   "outputs": [],
   "source": [
    "# Display using a numpy array (deprecation warning)\n",
    "import numpy as np\n",
    "\n",
    "images_np = [np.asarray(image) for image in images_pil]\n",
    "\n",
    "ipyplot.plot_images(images_np, max_images=50)"
   ]
  },
  {
   "cell_type": "code",
   "execution_count": null,
   "id": "76c99c74-ec96-46d9-baae-831055363846",
   "metadata": {
    "scrolled": true
   },
   "outputs": [],
   "source": [
    "# Display using Pandas Dataframe (no warning)\n",
    "df_pics = pd.DataFrame(images_pil)\n",
    "\n",
    "images = df_pics[0].values\n",
    "#labels = data1['id'].values\n",
    "\n",
    "ipyplot.plot_images(images, img_width=200, max_images=200)"
   ]
  },
  {
   "cell_type": "code",
   "execution_count": null,
   "id": "0691373f-e3d0-4a04-8da7-382ac59b6217",
   "metadata": {},
   "outputs": [],
   "source": []
  }
 ],
 "metadata": {
  "kernelspec": {
   "display_name": "Python 3",
   "language": "python",
   "name": "python3"
  },
  "language_info": {
   "codemirror_mode": {
    "name": "ipython",
    "version": 3
   },
   "file_extension": ".py",
   "mimetype": "text/x-python",
   "name": "python",
   "nbconvert_exporter": "python",
   "pygments_lexer": "ipython3",
   "version": "3.8.8"
  }
 },
 "nbformat": 4,
 "nbformat_minor": 5
}
